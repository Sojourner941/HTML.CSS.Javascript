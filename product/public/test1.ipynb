{
 "cells": [
  {
   "cell_type": "code",
   "execution_count": 2,
   "metadata": {
    "dotnet_interactive": {
     "language": "javascript"
    },
    "polyglot_notebook": {
     "kernelName": "javascript"
    },
    "vscode": {
     "languageId": "polyglot-notebook"
    }
   },
   "outputs": [],
   "source": [
    "let req = new XMLHttpRequest()\n",
    "\n",
    "req.addEventListener(\"load\",function(event){\n",
    "    //console.log(this.responseText)\n",
    "    //console.log(this.responseText)\n",
    "    let responseJSON = JSON.parse(this.resonseText)\n",
    "    console.log(typeof responseJSON)\n",
    "    //console.log(responseJSON)\n",
    "    for (let item of responseJSON){\n",
    "        console.log(item.name)\n",
    "    }\n",
    "})\n",
    "\n",
    "req.addEventListener(\"error\",function(event){\n",
    "    console.log(\"發生錯誤\")\n",
    "})\n",
    "\n",
    "req.open('GET','codeSearch.json')\n",
    "req.send()\n"
   ]
  }
 ],
 "metadata": {
  "language_info": {
   "name": "csharp"
  },
  "orig_nbformat": 4
 },
 "nbformat": 4,
 "nbformat_minor": 2
}
